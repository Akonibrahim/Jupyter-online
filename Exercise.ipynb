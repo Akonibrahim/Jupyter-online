{
 "cells": [
  {
   "cell_type": "code",
   "execution_count": 1,
   "metadata": {},
   "outputs": [],
   "source": [
    "import threading"
   ]
  },
  {
   "cell_type": "code",
   "execution_count": 6,
   "metadata": {},
   "outputs": [],
   "source": [
    "def cube(num):\n",
    "    print('Cube : {} '.format(num*num*num))"
   ]
  },
  {
   "cell_type": "code",
   "execution_count": 7,
   "metadata": {},
   "outputs": [],
   "source": [
    "def square(num):\n",
    "    print('Square : {}'.format(num*num))"
   ]
  },
  {
   "cell_type": "code",
   "execution_count": 8,
   "metadata": {},
   "outputs": [
    {
     "name": "stdout",
     "output_type": "stream",
     "text": [
      "Cube : 1000 \n",
      "Square : 100\n"
     ]
    }
   ],
   "source": [
    "t1 = threading.Thread(target=cube,args=(10,))\n",
    "t2 = threading.Thread(target=square,args=(10,))\n",
    "\n",
    "t1.start()\n",
    "t2.start()\n",
    "\n",
    "t1.join()\n",
    "t2.join()"
   ]
  },
  {
   "cell_type": "code",
   "execution_count": 23,
   "metadata": {},
   "outputs": [],
   "source": [
    "import threading"
   ]
  },
  {
   "cell_type": "code",
   "execution_count": 24,
   "metadata": {},
   "outputs": [],
   "source": [
    "x = 0\n",
    "\n",
    "def increment():\n",
    "    global x\n",
    "    x += 1"
   ]
  },
  {
   "cell_type": "code",
   "execution_count": 25,
   "metadata": {},
   "outputs": [],
   "source": [
    "def thread_func():\n",
    "    for i in range(100000):\n",
    "        increment()"
   ]
  },
  {
   "cell_type": "code",
   "execution_count": 26,
   "metadata": {},
   "outputs": [],
   "source": [
    "def main_func():\n",
    "    global x\n",
    "    x = 0 \n",
    "    \n",
    "    t1 = threading.Thread(target=thread_func)\n",
    "    t2 = threading.Thread(target=thread_func)\n",
    "    \n",
    "    t1.start()\n",
    "    t2.start()\n",
    "    \n",
    "    t1.join()\n",
    "    t2.join()    "
   ]
  },
  {
   "cell_type": "code",
   "execution_count": 27,
   "metadata": {},
   "outputs": [
    {
     "name": "stdout",
     "output_type": "stream",
     "text": [
      "Iteration 0 : x = 200000\n",
      "Iteration 1 : x = 183016\n",
      "Iteration 2 : x = 200000\n",
      "Iteration 3 : x = 200000\n",
      "Iteration 4 : x = 200000\n",
      "Iteration 5 : x = 200000\n",
      "Iteration 6 : x = 200000\n",
      "Iteration 7 : x = 152285\n",
      "Iteration 8 : x = 140036\n",
      "Iteration 9 : x = 200000\n"
     ]
    }
   ],
   "source": [
    "for i in range(10):\n",
    "    main_func()\n",
    "    print(\"Iteration {} : x = {}\".format(i,x))"
   ]
  },
  {
   "cell_type": "code",
   "execution_count": 1,
   "metadata": {},
   "outputs": [
    {
     "name": "stdout",
     "output_type": "stream",
     "text": [
      "Iteration 0 : x = 200000 \n",
      "Iteration 1 : x = 200000 \n",
      "Iteration 2 : x = 200000 \n",
      "Iteration 3 : x = 200000 \n",
      "Iteration 4 : x = 200000 \n",
      "Iteration 5 : x = 200000 \n",
      "Iteration 6 : x = 200000 \n",
      "Iteration 7 : x = 200000 \n",
      "Iteration 8 : x = 200000 \n",
      "Iteration 9 : x = 200000 \n"
     ]
    }
   ],
   "source": [
    "import threading\n",
    "\n",
    "x = 0 \n",
    "\n",
    "def increment():\n",
    "    global x\n",
    "    x += 1\n",
    "    \n",
    "def thread_func(lock):\n",
    "    for i in range(100000):\n",
    "        lock.acquire()\n",
    "        increment()\n",
    "        lock.release()\n",
    "        \n",
    "def main_func():\n",
    "    global x\n",
    "    x = 0\n",
    "    \n",
    "    lock = threading.Lock()\n",
    "    \n",
    "    t1  = threading.Thread(target=thread_func,args=(lock,))\n",
    "    t2  = threading.Thread(target=thread_func,args=(lock,))\n",
    "    \n",
    "    t1.start()\n",
    "    t2.start()\n",
    "    \n",
    "    t1.join()\n",
    "    t2.join()\n",
    "    \n",
    "for i in range(10):\n",
    "    main_func()\n",
    "    print(\"Iteration {} : x = {} \".format(i,x))\n",
    "    "
   ]
  },
  {
   "cell_type": "code",
   "execution_count": null,
   "metadata": {},
   "outputs": [],
   "source": [
    "import django"
   ]
  },
  {
   "cell_type": "code",
   "execution_count": null,
   "metadata": {},
   "outputs": [],
   "source": []
  }
 ],
 "metadata": {
  "kernelspec": {
   "display_name": "Python 3",
   "language": "python",
   "name": "python3"
  },
  "language_info": {
   "codemirror_mode": {
    "name": "ipython",
    "version": 3
   },
   "file_extension": ".py",
   "mimetype": "text/x-python",
   "name": "python",
   "nbconvert_exporter": "python",
   "pygments_lexer": "ipython3",
   "version": "3.6.5"
  }
 },
 "nbformat": 4,
 "nbformat_minor": 2
}
